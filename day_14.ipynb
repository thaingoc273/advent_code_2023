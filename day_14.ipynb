{
 "cells": [
  {
   "cell_type": "code",
   "execution_count": 8,
   "metadata": {},
   "outputs": [],
   "source": [
    "import re"
   ]
  },
  {
   "cell_type": "code",
   "execution_count": 122,
   "metadata": {},
   "outputs": [],
   "source": [
    "with open('data/day_14.txt', 'r') as f:\n",
    "    input_data = f.read()"
   ]
  },
  {
   "cell_type": "code",
   "execution_count": 124,
   "metadata": {},
   "outputs": [],
   "source": [
    "input_data = input_data.split('\\n')"
   ]
  },
  {
   "cell_type": "code",
   "execution_count": 11,
   "metadata": {},
   "outputs": [
    {
     "data": {
      "text/plain": [
       "['O....#....',\n",
       " 'O.OO#....#',\n",
       " '.....##...',\n",
       " 'OO.#O....O',\n",
       " '.O.....O#.',\n",
       " 'O.#..O.#.#',\n",
       " '..O..#O..O',\n",
       " '.......O..',\n",
       " '#....###..',\n",
       " '#OO..#....']"
      ]
     },
     "execution_count": 11,
     "metadata": {},
     "output_type": "execute_result"
    }
   ],
   "source": [
    "input_data"
   ]
  },
  {
   "cell_type": "code",
   "execution_count": 12,
   "metadata": {},
   "outputs": [],
   "source": [
    "lst_str_vertical = []\n",
    "l = len(input_data[0])\n",
    "for i in range(l):\n",
    "    str_vertical =''.join([item[i] for item in input_data])\n",
    "    lst_str_vertical.append(str_vertical)"
   ]
  },
  {
   "cell_type": "code",
   "execution_count": 13,
   "metadata": {},
   "outputs": [
    {
     "data": {
      "text/plain": [
       "['OO.O.O..##',\n",
       " '...OO....O',\n",
       " '.O...#O..O',\n",
       " '.O.#......',\n",
       " '.#.O......',\n",
       " '#.#..O#.##',\n",
       " '..#...O.#.',\n",
       " '....O#.O#.',\n",
       " '....#.....',\n",
       " '.#.O.#O...']"
      ]
     },
     "execution_count": 13,
     "metadata": {},
     "output_type": "execute_result"
    }
   ],
   "source": [
    "lst_str_vertical"
   ]
  },
  {
   "cell_type": "code",
   "execution_count": 14,
   "metadata": {},
   "outputs": [
    {
     "name": "stdout",
     "output_type": "stream",
     "text": [
      "136\n"
     ]
    }
   ],
   "source": [
    "l = len(lst_str_vertical[0])\n",
    "total_sum = 0\n",
    "for str_item in lst_str_vertical:\n",
    "    new_str_item = str_item.replace('.O', 'O.')\n",
    "    while str_item != new_str_item:\n",
    "        str_item = new_str_item\n",
    "        new_str_item = str_item.replace('.O', 'O.')    \n",
    "    for i in range(l):\n",
    "        if str_item[i] == 'O':\n",
    "            total_sum += l-i\n",
    "\n",
    "print(total_sum)"
   ]
  },
  {
   "cell_type": "code",
   "execution_count": 35,
   "metadata": {},
   "outputs": [
    {
     "data": {
      "text/plain": [
       "'.#O..#O...'"
      ]
     },
     "execution_count": 35,
     "metadata": {},
     "output_type": "execute_result"
    }
   ],
   "source": [
    "new_str_item"
   ]
  },
  {
   "cell_type": "code",
   "execution_count": 27,
   "metadata": {},
   "outputs": [
    {
     "name": "stdout",
     "output_type": "stream",
     "text": [
      "O....#.... O.OO#....# .....##... OO.#O....O .O.....O#. O.#..O.#.# ..O..#O..O .......O.. #....###.. #OO..#....\n"
     ]
    }
   ],
   "source": [
    "print(*input_data)"
   ]
  },
  {
   "cell_type": "code",
   "execution_count": 30,
   "metadata": {},
   "outputs": [
    {
     "name": "stdout",
     "output_type": "stream",
     "text": [
      "('O', 'O', '.', 'O', '.', 'O', '.', '.', '#', '#')\n",
      "('.', '.', '.', 'O', 'O', '.', '.', '.', '.', 'O')\n",
      "('.', 'O', '.', '.', '.', '#', 'O', '.', '.', 'O')\n",
      "('.', 'O', '.', '#', '.', '.', '.', '.', '.', '.')\n",
      "('.', '#', '.', 'O', '.', '.', '.', '.', '.', '.')\n",
      "('#', '.', '#', '.', '.', 'O', '#', '.', '#', '#')\n",
      "('.', '.', '#', '.', '.', '.', 'O', '.', '#', '.')\n",
      "('.', '.', '.', '.', 'O', '#', '.', 'O', '#', '.')\n",
      "('.', '.', '.', '.', '#', '.', '.', '.', '.', '.')\n",
      "('.', '#', '.', 'O', '.', '#', 'O', '.', '.', '.')\n"
     ]
    }
   ],
   "source": [
    "for element in zip(*input_data):\n",
    "    print(element)"
   ]
  },
  {
   "cell_type": "code",
   "execution_count": 32,
   "metadata": {},
   "outputs": [],
   "source": [
    "rotate_input = [row[::-1] for row in input_data]"
   ]
  },
  {
   "cell_type": "code",
   "execution_count": 33,
   "metadata": {},
   "outputs": [
    {
     "data": {
      "text/plain": [
       "['....#....O',\n",
       " '#....#OO.O',\n",
       " '...##.....',\n",
       " 'O....O#.OO',\n",
       " '.#O.....O.',\n",
       " '#.#.O..#.O',\n",
       " 'O..O#..O..',\n",
       " '..O.......',\n",
       " '..###....#',\n",
       " '....#..OO#']"
      ]
     },
     "execution_count": 33,
     "metadata": {},
     "output_type": "execute_result"
    }
   ],
   "source": [
    "rotate_input"
   ]
  },
  {
   "cell_type": "code",
   "execution_count": 34,
   "metadata": {},
   "outputs": [
    {
     "data": {
      "text/plain": [
       "['O....#....',\n",
       " 'O.OO#....#',\n",
       " '.....##...',\n",
       " 'OO.#O....O',\n",
       " '.O.....O#.',\n",
       " 'O.#..O.#.#',\n",
       " '..O..#O..O',\n",
       " '.......O..',\n",
       " '#....###..',\n",
       " '#OO..#....']"
      ]
     },
     "execution_count": 34,
     "metadata": {},
     "output_type": "execute_result"
    }
   ],
   "source": [
    "input_data"
   ]
  },
  {
   "cell_type": "code",
   "execution_count": 36,
   "metadata": {},
   "outputs": [
    {
     "data": {
      "text/plain": [
       "['OO.O.O..##',\n",
       " '...OO....O',\n",
       " '.O...#O..O',\n",
       " '.O.#......',\n",
       " '.#.O......',\n",
       " '#.#..O#.##',\n",
       " '..#...O.#.',\n",
       " '....O#.O#.',\n",
       " '....#.....',\n",
       " '.#.O.#O...']"
      ]
     },
     "execution_count": 36,
     "metadata": {},
     "output_type": "execute_result"
    }
   ],
   "source": [
    "rotate_input = [''.join(item) for item in zip(*input_data)]\n",
    "rotate_input"
   ]
  },
  {
   "cell_type": "code",
   "execution_count": 38,
   "metadata": {},
   "outputs": [
    {
     "data": {
      "text/plain": [
       "['....#....O',\n",
       " '#....#OO.O',\n",
       " '...##.....',\n",
       " 'O....O#.OO',\n",
       " '.#O.....O.',\n",
       " '#.#.O..#.O',\n",
       " 'O..O#..O..',\n",
       " '..O.......',\n",
       " '..###....#',\n",
       " '....#..OO#']"
      ]
     },
     "execution_count": 38,
     "metadata": {},
     "output_type": "execute_result"
    }
   ],
   "source": [
    "inverse_input = [row[::-1] for row in input_data]\n",
    "inverse_input"
   ]
  },
  {
   "cell_type": "markdown",
   "metadata": {},
   "source": [
    "# Part 2"
   ]
  },
  {
   "cell_type": "code",
   "execution_count": 94,
   "metadata": {},
   "outputs": [],
   "source": [
    "def moving_puzzle(str_input, direction):\n",
    "    if direction == 'North':\n",
    "        new_str_input = [''.join(item) for item in zip(*str_input)]\n",
    "        new_str_input = [item.split('#') for item in new_str_input]\n",
    "        new_str_input = ['#'.join([''.join(sorted(list(group), reverse=True)) for group in item]) for item in new_str_input]\n",
    "        new_str_input = [''.join(item) for item in zip(*new_str_input)]\n",
    "    elif direction == 'West':\n",
    "        new_str_input = [item.split('#') for item in str_input]\n",
    "        new_str_input = ['#'.join([''.join(sorted(list(group), reverse=True)) for group in item]) for item in new_str_input]\n",
    "    elif direction == 'South':\n",
    "        new_str_input = [''.join(item) for item in zip(*str_input)]\n",
    "        new_str_input = [item.split('#') for item in new_str_input]\n",
    "        new_str_input = ['#'.join([''.join(sorted(list(group))) for group in item]) for item in new_str_input]\n",
    "        new_str_input = [''.join(item) for item in zip(*new_str_input)]\n",
    "    elif direction == 'East':\n",
    "        new_str_input = [item.split('#') for item in str_input]\n",
    "        new_str_input = ['#'.join([''.join(sorted(list(group))) for group in item]) for item in new_str_input]\n",
    "    return new_str_input\n"
   ]
  },
  {
   "cell_type": "code",
   "execution_count": 97,
   "metadata": {},
   "outputs": [],
   "source": [
    "def cycle(str_input):    \n",
    "    data_north = moving_puzzle(str_input, 'North')\n",
    "    data_west = moving_puzzle(data_north, 'West')\n",
    "    data_south = moving_puzzle(data_west, 'South')\n",
    "    data_east = moving_puzzle(data_south, 'East')\n",
    "    return data_east"
   ]
  },
  {
   "cell_type": "code",
   "execution_count": 125,
   "metadata": {},
   "outputs": [],
   "source": [
    "lst_cycle = []\n",
    "lst_seen = set()\n",
    "grid = input_data.copy()\n",
    "while True:\n",
    "    if tuple(grid) in lst_seen:\n",
    "        break\n",
    "    else:\n",
    "        lst_cycle.append(grid)\n",
    "        lst_seen.add(tuple(grid))\n",
    "        grid = cycle(grid)       "
   ]
  },
  {
   "cell_type": "code",
   "execution_count": 126,
   "metadata": {},
   "outputs": [
    {
     "data": {
      "text/plain": [
       "102943"
      ]
     },
     "execution_count": 126,
     "metadata": {},
     "output_type": "execute_result"
    }
   ],
   "source": [
    "first = lst_cycle.index(grid)\n",
    "last = first + (1000000000-first)%(len(lst_seen)-first)\n",
    "target_grid = lst_cycle[last]\n",
    "point = sum([item.count('O')*(len(target_grid) - i) for i, item in enumerate(target_grid)])\n",
    "point"
   ]
  }
 ],
 "metadata": {
  "kernelspec": {
   "display_name": "Python 3",
   "language": "python",
   "name": "python3"
  },
  "language_info": {
   "codemirror_mode": {
    "name": "ipython",
    "version": 3
   },
   "file_extension": ".py",
   "mimetype": "text/x-python",
   "name": "python",
   "nbconvert_exporter": "python",
   "pygments_lexer": "ipython3",
   "version": "3.11.0"
  }
 },
 "nbformat": 4,
 "nbformat_minor": 2
}
