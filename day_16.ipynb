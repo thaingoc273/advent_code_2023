{
 "cells": [
  {
   "cell_type": "code",
   "execution_count": 1,
   "metadata": {},
   "outputs": [],
   "source": [
    "import re"
   ]
  },
  {
   "cell_type": "code",
   "execution_count": 216,
   "metadata": {},
   "outputs": [],
   "source": [
    "with open('data/day_16.txt', 'r') as f:\n",
    "    input_data = f.read().split()"
   ]
  },
  {
   "cell_type": "code",
   "execution_count": 217,
   "metadata": {},
   "outputs": [],
   "source": [
    "input_data = [[ch for ch in item] for item in input_data]"
   ]
  },
  {
   "cell_type": "code",
   "execution_count": 218,
   "metadata": {},
   "outputs": [],
   "source": [
    "def moving(start_position, start_direction):    \n",
    "    seen  = set()\n",
    "    stack = [(start_position, start_direction)]\n",
    "    \n",
    "\n",
    "    while stack:\n",
    "        point = stack.pop()\n",
    "        if point in seen:\n",
    "            continue\n",
    "        seen.add(point)\n",
    "        p, d = point\n",
    "        \n",
    "        x = p[0] + d[0]\n",
    "        y = p[1] + d[1]\n",
    "\n",
    "        if x in range(len_x) and y in range(len_y):\n",
    "            ch = input_data[y][x]\n",
    "            if ch == '|' and d[0] != 0:\n",
    "                lst_d = [(0, 1), (0, -1)]\n",
    "            elif ch == '-' and d[1] != 0:\n",
    "                lst_d = [(1, 0), (-1, 0)]\n",
    "            elif ch == '\\\\':\n",
    "                lst_d = [(d[1], d[0])]\n",
    "            elif ch == '/':\n",
    "                lst_d = [(-d[1], -d[0])]\n",
    "            else:\n",
    "                lst_d = [d]\n",
    "            \n",
    "            for dx, dy in lst_d:\n",
    "                stack.append(((x, y), (dx, dy)))\n",
    "    lst_p = [p for p, _ in seen]\n",
    "    return len(set(lst_p))-1    \n"
   ]
  },
  {
   "cell_type": "code",
   "execution_count": 219,
   "metadata": {},
   "outputs": [
    {
     "data": {
      "text/plain": [
       "6921"
      ]
     },
     "execution_count": 219,
     "metadata": {},
     "output_type": "execute_result"
    }
   ],
   "source": [
    "start_position = (-1, 0)\n",
    "start_direction = (1, 0)\n",
    "len_x = len(input_data) \n",
    "len_y = len(input_data[0])\n",
    "moving(start_position, start_direction)"
   ]
  },
  {
   "cell_type": "code",
   "execution_count": 220,
   "metadata": {},
   "outputs": [
    {
     "data": {
      "text/plain": [
       "7594"
      ]
     },
     "execution_count": 220,
     "metadata": {},
     "output_type": "execute_result"
    }
   ],
   "source": [
    "left_move = [(-1, i) for i in range(len_y)]\n",
    "left_d = (1, 0)\n",
    "right_move = [(len_x, i) for i in range(len_y)]\n",
    "right_d = (-1, 0)\n",
    "up_move = [(i, -1) for i in range(len_x)]\n",
    "up_d = (0, 1)\n",
    "down_move = [(i, len_y) for i in range(len_x)]\n",
    "down_d = (0, -1)\n",
    "\n",
    "max_point = max([moving(p, left_d) for p in left_move]+\n",
    "                [moving(p, right_d) for p in right_move]+\n",
    "                [moving(p, up_d) for p in up_move]+\n",
    "                [moving(p, down_d) for p in down_move])\n",
    "max_point "
   ]
  },
  {
   "cell_type": "code",
   "execution_count": 190,
   "metadata": {},
   "outputs": [
    {
     "name": "stdout",
     "output_type": "stream",
     "text": [
      "6921\n",
      "7594\n"
     ]
    }
   ],
   "source": [
    "with open(\"data/day_16.txt\") as f:\n",
    "    ls = f.read().strip().split(\"\\n\")\n",
    "\n",
    "board = {i + 1j * j: x for i, l in enumerate(ls) for j, x in enumerate(l)}\n",
    "\n",
    "\n",
    "def energized(entry, d):\n",
    "    q = [(entry - d, d)]\n",
    "    seen = set()\n",
    "    while q:\n",
    "        z, d = q.pop()\n",
    "        if (z, d) in seen:\n",
    "            continue\n",
    "        seen.add((z, d))\n",
    "        newz = z + d\n",
    "        if newz not in board:\n",
    "            continue\n",
    "        match board[newz]:\n",
    "            case \"|\" if d.imag:\n",
    "                new_dir = [1, -1]\n",
    "            case \"-\" if d.real:\n",
    "                new_dir = [1j, -1j]\n",
    "            case \"/\":\n",
    "                new_dir = [(d * 1j).conjugate()]\n",
    "            case \"\\\\\":\n",
    "                new_dir = [(d * -1j).conjugate()]\n",
    "            case _:\n",
    "                new_dir = [d]\n",
    "        q += [(newz, newd) for newd in new_dir]\n",
    "    return len({x[0] for x in seen}) - 1\n",
    "\n",
    "\n",
    "# Part 1\n",
    "print(energized(0, 1j))\n",
    "\n",
    "# Part 2\n",
    "N, M = len(ls), len(ls[0])\n",
    "entries = [(i, 1j) for i in range(N)]\n",
    "entries += [(i + (M - 1) * 1j, -1j) for i in range(N)]\n",
    "entries += [(i * 1j, 1) for i in range(M)]\n",
    "entries += [(N - 1 + i * 1j, -1) for i in range(M)]\n",
    "print(max(energized(*x) for x in entries))"
   ]
  },
  {
   "cell_type": "code",
   "execution_count": 8,
   "metadata": {},
   "outputs": [
    {
     "name": "stdout",
     "output_type": "stream",
     "text": [
      "0\n",
      "2\n",
      "1\n",
      "4\n",
      "3\n",
      "3\n"
     ]
    },
    {
     "data": {
      "text/plain": [
       "{'0', '1', '2', '3', '4'}"
      ]
     },
     "execution_count": 8,
     "metadata": {},
     "output_type": "execute_result"
    }
   ],
   "source": [
    "def dfs(graph, start, visited=None):\n",
    "    if visited is None:\n",
    "        visited = set()\n",
    "    visited.add(start)\n",
    "\n",
    "    print(start)\n",
    "\n",
    "    for next in graph[start] - visited:\n",
    "        dfs(graph, next, visited)\n",
    "    return visited\n",
    "\n",
    "\n",
    "graph = {'0': set(['1', '2']),\n",
    "         '1': set(['0', '3', '4']),\n",
    "         '2': set(['0']),\n",
    "         '3': set(['1']),\n",
    "         '4': set(['2', '3'])}\n",
    "\n",
    "dfs(graph, '0')"
   ]
  }
 ],
 "metadata": {
  "kernelspec": {
   "display_name": "Python 3",
   "language": "python",
   "name": "python3"
  },
  "language_info": {
   "codemirror_mode": {
    "name": "ipython",
    "version": 3
   },
   "file_extension": ".py",
   "mimetype": "text/x-python",
   "name": "python",
   "nbconvert_exporter": "python",
   "pygments_lexer": "ipython3",
   "version": "3.11.0"
  }
 },
 "nbformat": 4,
 "nbformat_minor": 2
}
