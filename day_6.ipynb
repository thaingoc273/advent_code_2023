{
 "cells": [
  {
   "cell_type": "code",
   "execution_count": 41,
   "metadata": {},
   "outputs": [],
   "source": [
    "import re\n",
    "import numpy as np\n",
    "import math"
   ]
  },
  {
   "cell_type": "code",
   "execution_count": 42,
   "metadata": {},
   "outputs": [],
   "source": [
    "with open('data/day_6.txt', 'r') as f:\n",
    "    input_data = f.readlines()"
   ]
  },
  {
   "cell_type": "code",
   "execution_count": 43,
   "metadata": {},
   "outputs": [],
   "source": [
    "times = re.findall(r'\\d+', input_data[0])\n",
    "distances = re.findall(r'\\d+', input_data[1])"
   ]
  },
  {
   "cell_type": "code",
   "execution_count": 44,
   "metadata": {},
   "outputs": [],
   "source": [
    "times = [int(item) for item in times]\n",
    "distances = [int(item) for item in distances]"
   ]
  },
  {
   "cell_type": "code",
   "execution_count": 45,
   "metadata": {},
   "outputs": [],
   "source": [
    "def way_to_win(time, distance):\n",
    "    delta = time*time -4*distance\n",
    "    if delta <= 0:\n",
    "        return 0\n",
    "    else:\n",
    "        lower = (time - np.sqrt(delta))/2\n",
    "        upper = (time + np.sqrt(delta))/2\n",
    "        lower = math.floor(lower+1)\n",
    "        upper = math.ceil(upper-1)\n",
    "        if lower > upper:\n",
    "            return 0\n",
    "        else:\n",
    "            return upper - lower + 1\n"
   ]
  },
  {
   "cell_type": "code",
   "execution_count": 46,
   "metadata": {},
   "outputs": [
    {
     "name": "stdout",
     "output_type": "stream",
     "text": [
      "512295\n"
     ]
    }
   ],
   "source": [
    "total_way = 1\n",
    "for time, distance in zip(times, distances):\n",
    "    total_way *= way_to_win(time, distance)\n",
    "    # print(way_to_win(time, distance))\n",
    "print(total_way)"
   ]
  },
  {
   "cell_type": "markdown",
   "metadata": {},
   "source": [
    "# Part 2"
   ]
  },
  {
   "cell_type": "code",
   "execution_count": 53,
   "metadata": {},
   "outputs": [],
   "source": [
    "times = [str(element) for element in times]\n",
    "distances = [str(element) for element in distances]\n",
    "new_time = ''.join(times)\n",
    "new_distance = ''.join(distances)"
   ]
  },
  {
   "cell_type": "code",
   "execution_count": 57,
   "metadata": {},
   "outputs": [
    {
     "data": {
      "text/plain": [
       "36530883"
      ]
     },
     "execution_count": 57,
     "metadata": {},
     "output_type": "execute_result"
    }
   ],
   "source": [
    "way_to_win(int(new_time), int(new_distance))"
   ]
  }
 ],
 "metadata": {
  "kernelspec": {
   "display_name": "Python 3",
   "language": "python",
   "name": "python3"
  },
  "language_info": {
   "codemirror_mode": {
    "name": "ipython",
    "version": 3
   },
   "file_extension": ".py",
   "mimetype": "text/x-python",
   "name": "python",
   "nbconvert_exporter": "python",
   "pygments_lexer": "ipython3",
   "version": "3.11.0"
  }
 },
 "nbformat": 4,
 "nbformat_minor": 2
}
