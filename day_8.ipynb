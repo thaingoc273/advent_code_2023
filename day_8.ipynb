{
 "cells": [
  {
   "cell_type": "code",
   "execution_count": 75,
   "metadata": {},
   "outputs": [],
   "source": [
    "import re"
   ]
  },
  {
   "cell_type": "code",
   "execution_count": 76,
   "metadata": {},
   "outputs": [],
   "source": [
    "with open('data/day_8.txt', 'r') as f:\n",
    "    input_data = f.readlines()"
   ]
  },
  {
   "cell_type": "code",
   "execution_count": 77,
   "metadata": {},
   "outputs": [],
   "source": [
    "instructions = input_data[0].strip()\n",
    "rules = {}\n",
    "for i in range(2, len(input_data)):\n",
    "    txt_retrieve = re.findall(r'\\w+', input_data[i])\n",
    "    rules[txt_retrieve[0]] = (txt_retrieve[1], txt_retrieve[2])"
   ]
  },
  {
   "cell_type": "code",
   "execution_count": 78,
   "metadata": {},
   "outputs": [
    {
     "data": {
      "text/plain": [
       "'LRRLRRLRRRLRLLRRRLLRRRLRLRRRLRLRRLRRRLRRRLRLRRRLRRRLRRLRRRLLLRLRRRLRRRLRRRLRLRLRRLLRRRLRLLRLRRRLRRLLRLRLRRLRRRLRRLLRLRRRLLRRLRRRLRLRRLLRRRLRRLLRRLRRRLRLRRRLRRLRRRLRRRLRRLRRRLRLRRLRRRLRRRLRRLLRLRRLRRLRRRLRLLLRRRLLRRRLRLRRRLRLRRLRRRLLLRLRRRLRLRRLRRRLRRRLRRLRLRLRRRR'"
      ]
     },
     "execution_count": 78,
     "metadata": {},
     "output_type": "execute_result"
    }
   ],
   "source": [
    "instructions"
   ]
  },
  {
   "cell_type": "code",
   "execution_count": 98,
   "metadata": {},
   "outputs": [],
   "source": [
    "def check_step(start):    \n",
    "    end =''\n",
    "    iteration = 0\n",
    "    number = 1\n",
    "    while (end!='ZZZ'):        \n",
    "        for instruction in instructions:\n",
    "            if instruction == 'L':\n",
    "                end = rules[start][0]\n",
    "            else:\n",
    "                end = rules[start][1]\n",
    "            iteration += 1\n",
    "            start = end            \n",
    "        number += 1\n",
    "    return iteration\n",
    "    "
   ]
  },
  {
   "cell_type": "code",
   "execution_count": 99,
   "metadata": {},
   "outputs": [
    {
     "data": {
      "text/plain": [
       "11309"
      ]
     },
     "execution_count": 99,
     "metadata": {},
     "output_type": "execute_result"
    }
   ],
   "source": [
    "check_step('AAA')"
   ]
  },
  {
   "cell_type": "markdown",
   "metadata": {},
   "source": [
    "# Part 2"
   ]
  },
  {
   "cell_type": "code",
   "execution_count": 87,
   "metadata": {},
   "outputs": [],
   "source": [
    "def check_ending(all_end):\n",
    "    for element in all_end:\n",
    "        if element[2] != 'Z':\n",
    "            return False\n",
    "    return True"
   ]
  },
  {
   "cell_type": "code",
   "execution_count": 95,
   "metadata": {},
   "outputs": [],
   "source": [
    "# Find all nodes that end with A\n",
    "all_start = []\n",
    "for node in rules.keys():\n",
    "    if node[2]=='A':\n",
    "        all_start.append(node)\n",
    "\n",
    "# Long running time. Do not use this\n",
    "def check_step_all_start(all_start):\n",
    "    all_end = ['   ' for _ in all_start]\n",
    "    iteration = 0\n",
    "    index = 0\n",
    "    number = 0\n",
    "    \n",
    "    while (number < 200000):\n",
    "        if check_ending(all_end):\n",
    "            print(all_end)\n",
    "            return iteration\n",
    "        else:\n",
    "            if instructions[index] == 'L':\n",
    "                for i in range(len(all_start)):\n",
    "                    all_end[i] = rules[all_start[i]][0]\n",
    "                    all_start[i] = all_end[i]\n",
    "            else:\n",
    "                for i in range(len(all_start)):\n",
    "                    all_end[i] = rules[all_start[i]][1]\n",
    "                    all_start[i] = all_end[i]\n",
    "            index += 1\n",
    "            iteration += 1\n",
    "            if index == len(instructions):\n",
    "                index = 0\n",
    "                number += 1\n",
    "    return 'No found'"
   ]
  },
  {
   "cell_type": "code",
   "execution_count": 101,
   "metadata": {},
   "outputs": [],
   "source": [
    "all_start = []\n",
    "for node in rules.keys():\n",
    "    if node[2]=='A':\n",
    "        all_start.append(node)"
   ]
  },
  {
   "cell_type": "code",
   "execution_count": 106,
   "metadata": {},
   "outputs": [],
   "source": [
    "def check_step_2(start):    \n",
    "    end ='   '\n",
    "    iteration = 0\n",
    "    number = 1\n",
    "    while (end[2]!='Z'):        \n",
    "        for instruction in instructions:\n",
    "            if instruction == 'L':\n",
    "                end = rules[start][0]\n",
    "            else:\n",
    "                end = rules[start][1]\n",
    "            iteration += 1\n",
    "            start = end            \n",
    "        number += 1\n",
    "    return iteration"
   ]
  },
  {
   "cell_type": "code",
   "execution_count": 107,
   "metadata": {},
   "outputs": [],
   "source": [
    "lst_iteration=[]\n",
    "for element in all_start:\n",
    "    lst_iteration.append(check_step_2(element))"
   ]
  },
  {
   "cell_type": "code",
   "execution_count": 108,
   "metadata": {},
   "outputs": [
    {
     "data": {
      "text/plain": [
       "[16043, 20777, 13939, 18673, 11309, 17621]"
      ]
     },
     "execution_count": 108,
     "metadata": {},
     "output_type": "execute_result"
    }
   ],
   "source": [
    "lst_iteration"
   ]
  },
  {
   "cell_type": "code",
   "execution_count": 109,
   "metadata": {},
   "outputs": [],
   "source": [
    "from math import lcm # Calculate the least common multiple"
   ]
  },
  {
   "cell_type": "code",
   "execution_count": 112,
   "metadata": {},
   "outputs": [
    {
     "data": {
      "text/plain": [
       "13740108158591"
      ]
     },
     "execution_count": 112,
     "metadata": {},
     "output_type": "execute_result"
    }
   ],
   "source": [
    "lcm(*lst_iteration)"
   ]
  }
 ],
 "metadata": {
  "kernelspec": {
   "display_name": "Python 3",
   "language": "python",
   "name": "python3"
  },
  "language_info": {
   "codemirror_mode": {
    "name": "ipython",
    "version": 3
   },
   "file_extension": ".py",
   "mimetype": "text/x-python",
   "name": "python",
   "nbconvert_exporter": "python",
   "pygments_lexer": "ipython3",
   "version": "3.11.0"
  }
 },
 "nbformat": 4,
 "nbformat_minor": 2
}
