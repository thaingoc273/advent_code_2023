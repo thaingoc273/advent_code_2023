{
 "cells": [
  {
   "cell_type": "code",
   "execution_count": 54,
   "metadata": {},
   "outputs": [],
   "source": [
    "import re"
   ]
  },
  {
   "cell_type": "code",
   "execution_count": 55,
   "metadata": {},
   "outputs": [],
   "source": [
    "with open('data/day_9.txt', 'r') as f:\n",
    "    input_data = f.readlines()"
   ]
  },
  {
   "cell_type": "code",
   "execution_count": 56,
   "metadata": {},
   "outputs": [],
   "source": [
    "input_num = []\n",
    "for item in input_data:\n",
    "    lst_value = item.strip().split()\n",
    "    lst_value = [int(element) for element in lst_value]\n",
    "    input_num.append(lst_value)"
   ]
  },
  {
   "cell_type": "code",
   "execution_count": 57,
   "metadata": {},
   "outputs": [],
   "source": [
    "sample = input_num[0]"
   ]
  },
  {
   "cell_type": "code",
   "execution_count": 58,
   "metadata": {},
   "outputs": [],
   "source": [
    "def recursion_next_element(lst_number):\n",
    "    if len(set(lst_number))==1:\n",
    "        return lst_number[0]\n",
    "    else:\n",
    "        new_lst = []\n",
    "        n = len(lst_number) \n",
    "        for i in range(n-1):\n",
    "            new_lst.append(lst_number[i+1]-lst_number[i])            \n",
    "        return recursion_next_element(new_lst) + lst_number[n-1]   "
   ]
  },
  {
   "cell_type": "code",
   "execution_count": 59,
   "metadata": {},
   "outputs": [
    {
     "name": "stdout",
     "output_type": "stream",
     "text": [
      "1904165718\n"
     ]
    }
   ],
   "source": [
    "sum = 0\n",
    "for lst_number in input_num:\n",
    "    sum += recursion_next_element(lst_number)\n",
    "print(sum)"
   ]
  },
  {
   "cell_type": "markdown",
   "metadata": {},
   "source": [
    "# Part 2"
   ]
  },
  {
   "cell_type": "code",
   "execution_count": 60,
   "metadata": {},
   "outputs": [],
   "source": [
    "def recursion_previous_element(lst_number):\n",
    "    if len(set(lst_number))==1:\n",
    "        return lst_number[0]\n",
    "    else:\n",
    "        new_lst = []\n",
    "        n = len(lst_number) \n",
    "        for i in range(n-1):\n",
    "            new_lst.append(lst_number[i+1]-lst_number[i])            \n",
    "        return lst_number[0] - recursion_previous_element(new_lst)    "
   ]
  },
  {
   "cell_type": "code",
   "execution_count": 61,
   "metadata": {},
   "outputs": [
    {
     "data": {
      "text/plain": [
       "4"
      ]
     },
     "execution_count": 61,
     "metadata": {},
     "output_type": "execute_result"
    }
   ],
   "source": [
    "recursion_previous_element(input_num[2])"
   ]
  },
  {
   "cell_type": "code",
   "execution_count": 62,
   "metadata": {},
   "outputs": [
    {
     "name": "stdout",
     "output_type": "stream",
     "text": [
      "964\n"
     ]
    }
   ],
   "source": [
    "sum_2 = 0\n",
    "for lst_number in input_num:\n",
    "    sum_2 += recursion_previous_element(lst_number)\n",
    "print(sum_2)"
   ]
  }
 ],
 "metadata": {
  "kernelspec": {
   "display_name": "Python 3",
   "language": "python",
   "name": "python3"
  },
  "language_info": {
   "codemirror_mode": {
    "name": "ipython",
    "version": 3
   },
   "file_extension": ".py",
   "mimetype": "text/x-python",
   "name": "python",
   "nbconvert_exporter": "python",
   "pygments_lexer": "ipython3",
   "version": "3.11.0"
  }
 },
 "nbformat": 4,
 "nbformat_minor": 2
}
