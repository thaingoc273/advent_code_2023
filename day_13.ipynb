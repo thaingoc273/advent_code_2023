{
 "cells": [
  {
   "cell_type": "code",
   "execution_count": 167,
   "metadata": {},
   "outputs": [],
   "source": [
    "import re"
   ]
  },
  {
   "cell_type": "code",
   "execution_count": 168,
   "metadata": {},
   "outputs": [],
   "source": [
    "with open('data/day_13.txt', 'r') as f:\n",
    "    input_data = f.read()"
   ]
  },
  {
   "cell_type": "code",
   "execution_count": 169,
   "metadata": {},
   "outputs": [],
   "source": [
    "input_data = input_data.split('\\n\\n')"
   ]
  },
  {
   "cell_type": "code",
   "execution_count": null,
   "metadata": {},
   "outputs": [],
   "source": []
  },
  {
   "cell_type": "code",
   "execution_count": 170,
   "metadata": {},
   "outputs": [],
   "source": [
    "def find_reflection_horizontal(str_input):    \n",
    "    n = len(str_input)\n",
    "    m = len(str_input[0])\n",
    "    lst_reflection = []\n",
    "    for i in range(n-1):\n",
    "        lst_compare =[]\n",
    "        if i < round(n/2)-1:\n",
    "            lst_compare = [str_input[j]==str_input[2*i+1-j] for j in range(i+1)]\n",
    "            if all(lst_compare):\n",
    "                lst_reflection.append(i+1)               \n",
    "        else:\n",
    "            lst_compare = [str_input[j]==str_input[2*i+1-j] for j in range(2*i+2-n,i+1)]\n",
    "            if all(lst_compare):\n",
    "                lst_reflection.append(i+1)\n",
    "    return lst_reflection"
   ]
  },
  {
   "cell_type": "code",
   "execution_count": 171,
   "metadata": {},
   "outputs": [],
   "source": [
    "def find_reflection_vertical(str_input):    \n",
    "    n = len(str_input)\n",
    "    m = len(str_input[0])\n",
    "    lst_reflection = []\n",
    "    lst_str_vertical = []\n",
    "    for i in range(m):\n",
    "        str_vertical =''.join([item[i] for item in str_input])\n",
    "        lst_str_vertical.append(str_vertical)\n",
    "    return find_reflection_horizontal(lst_str_vertical)\n",
    "        "
   ]
  },
  {
   "cell_type": "code",
   "execution_count": 172,
   "metadata": {},
   "outputs": [
    {
     "name": "stdout",
     "output_type": "stream",
     "text": [
      "36015\n"
     ]
    }
   ],
   "source": [
    "sum_total = 0\n",
    "for str_input in input_data:\n",
    "    str_input = str_input.split('\\n')\n",
    "    lst_horizontal = find_reflection_horizontal(str_input)\n",
    "    lst_vertical = find_reflection_vertical(str_input)\n",
    "    sum_total += sum(lst_horizontal)*100 + sum(lst_vertical)\n",
    "print(sum_total)"
   ]
  },
  {
   "cell_type": "markdown",
   "metadata": {},
   "source": [
    "# Part 2"
   ]
  },
  {
   "cell_type": "code",
   "execution_count": 196,
   "metadata": {},
   "outputs": [],
   "source": [
    "def find_reflection_horizontal_2(str_input):    \n",
    "    n = len(str_input)\n",
    "    m = len(str_input[0])\n",
    "    lst_reflection = []\n",
    "    for i in range(n-1):\n",
    "        lst_compare =[]\n",
    "        if i < round(n/2)-1:\n",
    "            lst_compare = [str_input[j][l]!=str_input[2*i+1-j][l] for j in range(i+1) for l in range(m)]\n",
    "            if sum(lst_compare)==1:\n",
    "                lst_reflection.append(i+1)               \n",
    "        else:\n",
    "            lst_compare = [str_input[j][l]!=str_input[2*i+1-j][l] for j in range(2*i+2-n,i+1) for l in range(m)]\n",
    "            if sum(lst_compare)==1:\n",
    "                lst_reflection.append(i+1)\n",
    "    return lst_reflection"
   ]
  },
  {
   "cell_type": "code",
   "execution_count": 181,
   "metadata": {},
   "outputs": [],
   "source": [
    "def find_reflection_vertical_2(str_input):    \n",
    "    n = len(str_input)\n",
    "    m = len(str_input[0])    \n",
    "    lst_str_vertical = []\n",
    "    for i in range(m):\n",
    "        str_vertical =''.join([item[i] for item in str_input])\n",
    "        lst_str_vertical.append(str_vertical)\n",
    "    return find_reflection_horizontal_2(lst_str_vertical)"
   ]
  },
  {
   "cell_type": "code",
   "execution_count": 197,
   "metadata": {},
   "outputs": [
    {
     "name": "stdout",
     "output_type": "stream",
     "text": [
      "35335\n"
     ]
    }
   ],
   "source": [
    "sum_total = 0\n",
    "for str_input in input_data:\n",
    "    str_input = str_input.split('\\n')\n",
    "    lst_horizontal = find_reflection_horizontal_2(str_input)\n",
    "    lst_vertical = find_reflection_vertical_2(str_input)\n",
    "    sum_total += sum(lst_horizontal)*100 + sum(lst_vertical)\n",
    "print(sum_total)"
   ]
  }
 ],
 "metadata": {
  "kernelspec": {
   "display_name": "Python 3",
   "language": "python",
   "name": "python3"
  },
  "language_info": {
   "codemirror_mode": {
    "name": "ipython",
    "version": 3
   },
   "file_extension": ".py",
   "mimetype": "text/x-python",
   "name": "python",
   "nbconvert_exporter": "python",
   "pygments_lexer": "ipython3",
   "version": "3.11.0"
  }
 },
 "nbformat": 4,
 "nbformat_minor": 2
}
