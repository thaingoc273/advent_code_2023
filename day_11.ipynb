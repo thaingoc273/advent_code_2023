{
 "cells": [
  {
   "cell_type": "code",
   "execution_count": 123,
   "metadata": {},
   "outputs": [],
   "source": [
    "import re\n",
    "import numpy as np"
   ]
  },
  {
   "cell_type": "code",
   "execution_count": 124,
   "metadata": {},
   "outputs": [],
   "source": [
    "with open('data/day_11.txt', 'r') as f:\n",
    "    input_data = f.readlines()"
   ]
  },
  {
   "cell_type": "code",
   "execution_count": 125,
   "metadata": {},
   "outputs": [],
   "source": [
    "input_data =[element.strip() for element in input_data]"
   ]
  },
  {
   "cell_type": "code",
   "execution_count": 126,
   "metadata": {},
   "outputs": [],
   "source": [
    "l = len(input_data[0])\n",
    "line_insert = '.'*l\n",
    "new_input = input_data.copy()\n",
    "idx_add = 0\n",
    "# Add rows\n",
    "for i in range(len(input_data)):\n",
    "    line = input_data[i]    \n",
    "    if set(list(line))=={'.'}:        \n",
    "        new_input.insert(i + idx_add, line_insert)\n",
    "        idx_add +=1    \n",
    "\n",
    "# Add columns\n",
    "idx_add = 0\n",
    "for i in range(l):\n",
    "    # Check column\n",
    "    str_col = ''.join([line[i] for line in input_data])\n",
    "    if set(list(str_col))=={'.'}:\n",
    "        new_input = [''.join([line[:i+idx_add], '.', line[i+idx_add:]]) for line in new_input]\n",
    "        idx_add += 1"
   ]
  },
  {
   "cell_type": "code",
   "execution_count": 127,
   "metadata": {},
   "outputs": [
    {
     "data": {
      "text/plain": [
       "149"
      ]
     },
     "execution_count": 127,
     "metadata": {},
     "output_type": "execute_result"
    }
   ],
   "source": [
    "len(new_input)"
   ]
  },
  {
   "cell_type": "code",
   "execution_count": 128,
   "metadata": {},
   "outputs": [],
   "source": [
    "lst_galaxy = []\n",
    "for i in range(len(new_input)):\n",
    "    idx =[(i, id) for id, c in enumerate(new_input[i]) if c == '#']\n",
    "    lst_galaxy +=idx"
   ]
  },
  {
   "cell_type": "code",
   "execution_count": 129,
   "metadata": {},
   "outputs": [
    {
     "name": "stdout",
     "output_type": "stream",
     "text": [
      "9556896\n"
     ]
    }
   ],
   "source": [
    "number_galaxy = len(lst_galaxy)\n",
    "sum = 0\n",
    "for i in range(number_galaxy-1):\n",
    "    for j in range(i, number_galaxy):\n",
    "        min_dist = np.sum(np.abs(np.array(lst_galaxy[i])-np.array(lst_galaxy[j])))\n",
    "        sum += min_dist\n",
    "print(sum)"
   ]
  },
  {
   "cell_type": "markdown",
   "metadata": {},
   "source": [
    "# Part 2:"
   ]
  },
  {
   "cell_type": "code",
   "execution_count": 130,
   "metadata": {},
   "outputs": [],
   "source": [
    "lst_galaxy_origin = []\n",
    "for i in range(len(input_data)):\n",
    "    idx =[(i, id) for id, c in enumerate(input_data[i]) if c == '#']\n",
    "    lst_galaxy_origin +=idx"
   ]
  },
  {
   "cell_type": "code",
   "execution_count": 131,
   "metadata": {},
   "outputs": [
    {
     "name": "stdout",
     "output_type": "stream",
     "text": [
      "8871866\n"
     ]
    }
   ],
   "source": [
    "# Sum from original galaxy\n",
    "number_galaxy = len(lst_galaxy_origin)\n",
    "sum_origin = 0\n",
    "for i in range(number_galaxy-1):\n",
    "    for j in range(i, number_galaxy):\n",
    "        min_dist = np.sum(np.abs(np.array(lst_galaxy_origin[i])-np.array(lst_galaxy_origin[j])))\n",
    "        sum_origin += min_dist\n",
    "print(sum_origin)"
   ]
  },
  {
   "cell_type": "code",
   "execution_count": 132,
   "metadata": {},
   "outputs": [
    {
     "name": "stdout",
     "output_type": "stream",
     "text": [
      "378690\n"
     ]
    }
   ],
   "source": [
    "# Check rows\n",
    "sum_add_row = 0\n",
    "l_row = len(input_data)\n",
    "l_col = len(input_data[0])\n",
    "\n",
    "for i in range(l_row):\n",
    "    line = input_data[i]    \n",
    "    if set(list(line))=={'.'}:\n",
    "        lst_before = [element for element in lst_galaxy_origin if element[0]<i]\n",
    "        m = len(lst_before)\n",
    "        sum_add_row += m*(number_galaxy-m)\n",
    "print(sum_add_row)\n"
   ]
  },
  {
   "cell_type": "code",
   "execution_count": 133,
   "metadata": {},
   "outputs": [
    {
     "name": "stdout",
     "output_type": "stream",
     "text": [
      "306340\n"
     ]
    }
   ],
   "source": [
    "# Check columns\n",
    "sum_add_col = 0\n",
    "for i in range(l_col):\n",
    "    str_col = ''.join([line[i] for line in input_data])\n",
    "    if set(list(str_col))=={'.'}:\n",
    "        lst_before = [element for element in lst_galaxy_origin if element[1]<i]\n",
    "        m = len(lst_before)\n",
    "        sum_add_col += m*(number_galaxy-m)\n",
    "print(sum_add_col)"
   ]
  },
  {
   "cell_type": "code",
   "execution_count": 135,
   "metadata": {},
   "outputs": [
    {
     "name": "stdout",
     "output_type": "stream",
     "text": [
      "685038186836\n"
     ]
    }
   ],
   "source": [
    "# Combine two kind of add columns and rows\n",
    "sum_add = sum_add_col + sum_add_row\n",
    "print(sum_origin+sum_add*999999)"
   ]
  }
 ],
 "metadata": {
  "kernelspec": {
   "display_name": "Python 3",
   "language": "python",
   "name": "python3"
  },
  "language_info": {
   "codemirror_mode": {
    "name": "ipython",
    "version": 3
   },
   "file_extension": ".py",
   "mimetype": "text/x-python",
   "name": "python",
   "nbconvert_exporter": "python",
   "pygments_lexer": "ipython3",
   "version": "3.11.0"
  }
 },
 "nbformat": 4,
 "nbformat_minor": 2
}
